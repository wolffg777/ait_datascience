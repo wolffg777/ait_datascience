{
  "cells": [
    {
      "cell_type": "markdown",
      "metadata": {
        "id": "view-in-github",
        "colab_type": "text"
      },
      "source": [
        "<a href=\"https://colab.research.google.com/github/wolffg777/ait_datascience/blob/main/MusicRec01.ipynb\" target=\"_parent\"><img src=\"https://colab.research.google.com/assets/colab-badge.svg\" alt=\"Open In Colab\"/></a>"
      ]
    },
    {
      "cell_type": "markdown",
      "metadata": {
        "id": "xZxf-Kh9WfmB"
      },
      "source": [
        "TODO:\n",
        "WORD2VEC KERAS CLASSIFICATION PROBLEM\n",
        "- first clean up\n",
        "- testing it to see improvement\n",
        "- implementing primary_genres and secondary_genres as inputs\n",
        "- implement output as album-artist name pair\n",
        "- implementing dates (as continuous)\n",
        "- easier things first\n",
        "- spotify data integration\n",
        "\n",
        "\n",
        "-brainstorm an idea for the name of the independent study on askbanner (limited to 30 characters)\n",
        "\n"
      ]
    },
    {
      "cell_type": "markdown",
      "metadata": {
        "id": "U4x6IYS2o--9"
      },
      "source": [
        "\n",
        "check - train on domain text\n",
        "notcheck - pretrained w2v\n",
        "notcheck - use pretrained with domain adaptation  \n",
        "\n"
      ]
    },
    {
      "cell_type": "code",
      "execution_count": 2,
      "metadata": {
        "colab": {
          "base_uri": "https://localhost:8080/"
        },
        "id": "lYKfT639cxos",
        "outputId": "132d1c71-21c4-45fe-a7e8-63d895be1846"
      },
      "outputs": [
        {
          "output_type": "stream",
          "name": "stdout",
          "text": [
            "/root/gensim-data/word2vec-google-news-300/word2vec-google-news-300.gz\n"
          ]
        }
      ],
      "source": [
        "import gensim.downloader as api\n",
        "path = api.load(\"word2vec-google-news-300\", return_path=True)\n",
        "print(path)"
      ]
    },
    {
      "cell_type": "code",
      "execution_count": 3,
      "metadata": {
        "colab": {
          "base_uri": "https://localhost:8080/",
          "height": 719
        },
        "id": "LLEoIHEpmmdP",
        "outputId": "08c4863b-16ec-46a5-fdcc-60994929ab75"
      },
      "outputs": [
        {
          "output_type": "display_data",
          "data": {
            "text/plain": [
              "<IPython.core.display.HTML object>"
            ],
            "text/html": [
              "\n",
              "     <input type=\"file\" id=\"files-38cd6298-6784-41c9-a9ff-5d8320a3ae0f\" name=\"files[]\" multiple disabled\n",
              "        style=\"border:none\" />\n",
              "     <output id=\"result-38cd6298-6784-41c9-a9ff-5d8320a3ae0f\">\n",
              "      Upload widget is only available when the cell has been executed in the\n",
              "      current browser session. Please rerun this cell to enable.\n",
              "      </output>\n",
              "      <script>// Copyright 2017 Google LLC\n",
              "//\n",
              "// Licensed under the Apache License, Version 2.0 (the \"License\");\n",
              "// you may not use this file except in compliance with the License.\n",
              "// You may obtain a copy of the License at\n",
              "//\n",
              "//      http://www.apache.org/licenses/LICENSE-2.0\n",
              "//\n",
              "// Unless required by applicable law or agreed to in writing, software\n",
              "// distributed under the License is distributed on an \"AS IS\" BASIS,\n",
              "// WITHOUT WARRANTIES OR CONDITIONS OF ANY KIND, either express or implied.\n",
              "// See the License for the specific language governing permissions and\n",
              "// limitations under the License.\n",
              "\n",
              "/**\n",
              " * @fileoverview Helpers for google.colab Python module.\n",
              " */\n",
              "(function(scope) {\n",
              "function span(text, styleAttributes = {}) {\n",
              "  const element = document.createElement('span');\n",
              "  element.textContent = text;\n",
              "  for (const key of Object.keys(styleAttributes)) {\n",
              "    element.style[key] = styleAttributes[key];\n",
              "  }\n",
              "  return element;\n",
              "}\n",
              "\n",
              "// Max number of bytes which will be uploaded at a time.\n",
              "const MAX_PAYLOAD_SIZE = 100 * 1024;\n",
              "\n",
              "function _uploadFiles(inputId, outputId) {\n",
              "  const steps = uploadFilesStep(inputId, outputId);\n",
              "  const outputElement = document.getElementById(outputId);\n",
              "  // Cache steps on the outputElement to make it available for the next call\n",
              "  // to uploadFilesContinue from Python.\n",
              "  outputElement.steps = steps;\n",
              "\n",
              "  return _uploadFilesContinue(outputId);\n",
              "}\n",
              "\n",
              "// This is roughly an async generator (not supported in the browser yet),\n",
              "// where there are multiple asynchronous steps and the Python side is going\n",
              "// to poll for completion of each step.\n",
              "// This uses a Promise to block the python side on completion of each step,\n",
              "// then passes the result of the previous step as the input to the next step.\n",
              "function _uploadFilesContinue(outputId) {\n",
              "  const outputElement = document.getElementById(outputId);\n",
              "  const steps = outputElement.steps;\n",
              "\n",
              "  const next = steps.next(outputElement.lastPromiseValue);\n",
              "  return Promise.resolve(next.value.promise).then((value) => {\n",
              "    // Cache the last promise value to make it available to the next\n",
              "    // step of the generator.\n",
              "    outputElement.lastPromiseValue = value;\n",
              "    return next.value.response;\n",
              "  });\n",
              "}\n",
              "\n",
              "/**\n",
              " * Generator function which is called between each async step of the upload\n",
              " * process.\n",
              " * @param {string} inputId Element ID of the input file picker element.\n",
              " * @param {string} outputId Element ID of the output display.\n",
              " * @return {!Iterable<!Object>} Iterable of next steps.\n",
              " */\n",
              "function* uploadFilesStep(inputId, outputId) {\n",
              "  const inputElement = document.getElementById(inputId);\n",
              "  inputElement.disabled = false;\n",
              "\n",
              "  const outputElement = document.getElementById(outputId);\n",
              "  outputElement.innerHTML = '';\n",
              "\n",
              "  const pickedPromise = new Promise((resolve) => {\n",
              "    inputElement.addEventListener('change', (e) => {\n",
              "      resolve(e.target.files);\n",
              "    });\n",
              "  });\n",
              "\n",
              "  const cancel = document.createElement('button');\n",
              "  inputElement.parentElement.appendChild(cancel);\n",
              "  cancel.textContent = 'Cancel upload';\n",
              "  const cancelPromise = new Promise((resolve) => {\n",
              "    cancel.onclick = () => {\n",
              "      resolve(null);\n",
              "    };\n",
              "  });\n",
              "\n",
              "  // Wait for the user to pick the files.\n",
              "  const files = yield {\n",
              "    promise: Promise.race([pickedPromise, cancelPromise]),\n",
              "    response: {\n",
              "      action: 'starting',\n",
              "    }\n",
              "  };\n",
              "\n",
              "  cancel.remove();\n",
              "\n",
              "  // Disable the input element since further picks are not allowed.\n",
              "  inputElement.disabled = true;\n",
              "\n",
              "  if (!files) {\n",
              "    return {\n",
              "      response: {\n",
              "        action: 'complete',\n",
              "      }\n",
              "    };\n",
              "  }\n",
              "\n",
              "  for (const file of files) {\n",
              "    const li = document.createElement('li');\n",
              "    li.append(span(file.name, {fontWeight: 'bold'}));\n",
              "    li.append(span(\n",
              "        `(${file.type || 'n/a'}) - ${file.size} bytes, ` +\n",
              "        `last modified: ${\n",
              "            file.lastModifiedDate ? file.lastModifiedDate.toLocaleDateString() :\n",
              "                                    'n/a'} - `));\n",
              "    const percent = span('0% done');\n",
              "    li.appendChild(percent);\n",
              "\n",
              "    outputElement.appendChild(li);\n",
              "\n",
              "    const fileDataPromise = new Promise((resolve) => {\n",
              "      const reader = new FileReader();\n",
              "      reader.onload = (e) => {\n",
              "        resolve(e.target.result);\n",
              "      };\n",
              "      reader.readAsArrayBuffer(file);\n",
              "    });\n",
              "    // Wait for the data to be ready.\n",
              "    let fileData = yield {\n",
              "      promise: fileDataPromise,\n",
              "      response: {\n",
              "        action: 'continue',\n",
              "      }\n",
              "    };\n",
              "\n",
              "    // Use a chunked sending to avoid message size limits. See b/62115660.\n",
              "    let position = 0;\n",
              "    do {\n",
              "      const length = Math.min(fileData.byteLength - position, MAX_PAYLOAD_SIZE);\n",
              "      const chunk = new Uint8Array(fileData, position, length);\n",
              "      position += length;\n",
              "\n",
              "      const base64 = btoa(String.fromCharCode.apply(null, chunk));\n",
              "      yield {\n",
              "        response: {\n",
              "          action: 'append',\n",
              "          file: file.name,\n",
              "          data: base64,\n",
              "        },\n",
              "      };\n",
              "\n",
              "      let percentDone = fileData.byteLength === 0 ?\n",
              "          100 :\n",
              "          Math.round((position / fileData.byteLength) * 100);\n",
              "      percent.textContent = `${percentDone}% done`;\n",
              "\n",
              "    } while (position < fileData.byteLength);\n",
              "  }\n",
              "\n",
              "  // All done.\n",
              "  yield {\n",
              "    response: {\n",
              "      action: 'complete',\n",
              "    }\n",
              "  };\n",
              "}\n",
              "\n",
              "scope.google = scope.google || {};\n",
              "scope.google.colab = scope.google.colab || {};\n",
              "scope.google.colab._files = {\n",
              "  _uploadFiles,\n",
              "  _uploadFilesContinue,\n",
              "};\n",
              "})(self);\n",
              "</script> "
            ]
          },
          "metadata": {}
        },
        {
          "output_type": "stream",
          "name": "stdout",
          "text": [
            "Saving kaggle.json to kaggle.json\n",
            "Requirement already satisfied: kaggle in /usr/local/lib/python3.10/dist-packages (1.5.16)\n",
            "Requirement already satisfied: six>=1.10 in /usr/local/lib/python3.10/dist-packages (from kaggle) (1.16.0)\n",
            "Requirement already satisfied: certifi in /usr/local/lib/python3.10/dist-packages (from kaggle) (2023.7.22)\n",
            "Requirement already satisfied: python-dateutil in /usr/local/lib/python3.10/dist-packages (from kaggle) (2.8.2)\n",
            "Requirement already satisfied: requests in /usr/local/lib/python3.10/dist-packages (from kaggle) (2.31.0)\n",
            "Requirement already satisfied: tqdm in /usr/local/lib/python3.10/dist-packages (from kaggle) (4.66.1)\n",
            "Requirement already satisfied: python-slugify in /usr/local/lib/python3.10/dist-packages (from kaggle) (8.0.1)\n",
            "Requirement already satisfied: urllib3 in /usr/local/lib/python3.10/dist-packages (from kaggle) (2.0.7)\n",
            "Requirement already satisfied: bleach in /usr/local/lib/python3.10/dist-packages (from kaggle) (6.1.0)\n",
            "Requirement already satisfied: webencodings in /usr/local/lib/python3.10/dist-packages (from bleach->kaggle) (0.5.1)\n",
            "Requirement already satisfied: text-unidecode>=1.3 in /usr/local/lib/python3.10/dist-packages (from python-slugify->kaggle) (1.3)\n",
            "Requirement already satisfied: charset-normalizer<4,>=2 in /usr/local/lib/python3.10/dist-packages (from requests->kaggle) (3.3.1)\n",
            "Requirement already satisfied: idna<4,>=2.5 in /usr/local/lib/python3.10/dist-packages (from requests->kaggle) (3.4)\n",
            "chmod: cannot access '/root/.kaggle/kaggle.json': No such file or directory\n",
            "Warning: Your Kaggle API key is readable by other users on this system! To fix this, you can run 'chmod 600 /root/.kaggle/kaggle.json'\n",
            "Downloading rym-top-5000.zip to /content\n",
            "  0% 0.00/863k [00:00<?, ?B/s]\n",
            "100% 863k/863k [00:00<00:00, 128MB/s]\n",
            "Archive:  rym-top-5000.zip\n",
            "  inflating: rym_clean1.csv          \n",
            "  inflating: rym_raw1.csv            \n",
            "Collecting spotipy\n",
            "  Downloading spotipy-2.23.0-py3-none-any.whl (29 kB)\n",
            "Collecting redis>=3.5.3 (from spotipy)\n",
            "  Downloading redis-5.0.1-py3-none-any.whl (250 kB)\n",
            "\u001b[2K     \u001b[90m━━━━━━━━━━━━━━━━━━━━━━━━━━━━━━━━━━━━━━━━\u001b[0m \u001b[32m250.3/250.3 kB\u001b[0m \u001b[31m8.3 MB/s\u001b[0m eta \u001b[36m0:00:00\u001b[0m\n",
            "\u001b[?25hRequirement already satisfied: requests>=2.25.0 in /usr/local/lib/python3.10/dist-packages (from spotipy) (2.31.0)\n",
            "Requirement already satisfied: six>=1.15.0 in /usr/local/lib/python3.10/dist-packages (from spotipy) (1.16.0)\n",
            "Requirement already satisfied: urllib3>=1.26.0 in /usr/local/lib/python3.10/dist-packages (from spotipy) (2.0.7)\n",
            "Requirement already satisfied: async-timeout>=4.0.2 in /usr/local/lib/python3.10/dist-packages (from redis>=3.5.3->spotipy) (4.0.3)\n",
            "Requirement already satisfied: charset-normalizer<4,>=2 in /usr/local/lib/python3.10/dist-packages (from requests>=2.25.0->spotipy) (3.3.1)\n",
            "Requirement already satisfied: idna<4,>=2.5 in /usr/local/lib/python3.10/dist-packages (from requests>=2.25.0->spotipy) (3.4)\n",
            "Requirement already satisfied: certifi>=2017.4.17 in /usr/local/lib/python3.10/dist-packages (from requests>=2.25.0->spotipy) (2023.7.22)\n",
            "Installing collected packages: redis, spotipy\n",
            "Successfully installed redis-5.0.1 spotipy-2.23.0\n"
          ]
        }
      ],
      "source": [
        "from google.colab import files\n",
        "files.upload()\n",
        "!pip install kaggle\n",
        "!chmod 600 /root/.kaggle/kaggle.json\n",
        "!mkdir -p ~/.kaggle\n",
        "!mv kaggle.json ~/.kaggle/\n",
        "!kaggle datasets download -d tobennao/rym-top-5000\n",
        "!unzip rym-top-5000.zip\n",
        "!pip install spotipy"
      ]
    },
    {
      "cell_type": "code",
      "execution_count": 4,
      "metadata": {
        "id": "DvZgb6D6hVUo"
      },
      "outputs": [],
      "source": [
        "#imports\n",
        "import pandas as pd\n",
        "import numpy as np\n",
        "from gensim.models import Word2Vec\n",
        "import warnings\n",
        "warnings.filterwarnings('ignore')\n",
        "from tensorflow.keras.models import Sequential\n",
        "from tensorflow.keras.layers import Embedding, LSTM, Dense\n",
        "from tensorflow.keras.preprocessing.sequence import pad_sequences\n",
        "from sklearn.preprocessing import LabelEncoder\n",
        "from gensim.models import KeyedVectors\n",
        "from sklearn.model_selection import train_test_split\n",
        "from keras.preprocessing.text import Tokenizer\n",
        "\n",
        "\n",
        "# Load the word2vec model\n",
        "model = KeyedVectors.load_word2vec_format(path, binary=True)"
      ]
    },
    {
      "cell_type": "code",
      "execution_count": 14,
      "metadata": {
        "id": "2qamf9G-Ru8F"
      },
      "outputs": [],
      "source": [
        "#Load data\n",
        "df = pd.read_csv('rym_clean1.csv')"
      ]
    },
    {
      "cell_type": "code",
      "execution_count": 15,
      "metadata": {
        "colab": {
          "base_uri": "https://localhost:8080/",
          "height": 293
        },
        "id": "1WScY1v6BmPE",
        "outputId": "2ceccbcc-ceb6-4839-b3ef-b58dc3856f6a"
      },
      "outputs": [
        {
          "output_type": "execute_result",
          "data": {
            "text/plain": [
              "                        release_name                           primary_genres  \\\n",
              "0                        OK Computer               Alternative Rock, Art Rock   \n",
              "1                              Kid A  Art Rock, Experimental Rock, Electronic   \n",
              "2          The Dark Side of the Moon               Art Rock, Progressive Rock   \n",
              "3                           Loveless                      Shoegaze, Noise Pop   \n",
              "4  My Beautiful Dark Twisted Fantasy                         Pop Rap, Hip Hop   \n",
              "\n",
              "               secondary_genres  \\\n",
              "0                           NaN   \n",
              "1      Ambient, Electronic, IDM   \n",
              "2  Psychedelic Rock, Space Rock   \n",
              "3    Dream Pop, Neo-Psychedelia   \n",
              "4                       Art Pop   \n",
              "\n",
              "                                         descriptors  \n",
              "0  melancholic, anxious, futuristic, malevocals, ...  \n",
              "1  cold, melancholic, futuristic, anxious, atmosp...  \n",
              "2  philosophical, atmospheric, introspective, exi...  \n",
              "3  noisy, ethereal, atmospheric, romantic, love, ...  \n",
              "4  epic, boastful, passionate, sampling, hedonist...  "
            ],
            "text/html": [
              "\n",
              "  <div id=\"df-a1aeb80c-5709-41cb-9276-e37eb93ff1e7\" class=\"colab-df-container\">\n",
              "    <div>\n",
              "<style scoped>\n",
              "    .dataframe tbody tr th:only-of-type {\n",
              "        vertical-align: middle;\n",
              "    }\n",
              "\n",
              "    .dataframe tbody tr th {\n",
              "        vertical-align: top;\n",
              "    }\n",
              "\n",
              "    .dataframe thead th {\n",
              "        text-align: right;\n",
              "    }\n",
              "</style>\n",
              "<table border=\"1\" class=\"dataframe\">\n",
              "  <thead>\n",
              "    <tr style=\"text-align: right;\">\n",
              "      <th></th>\n",
              "      <th>release_name</th>\n",
              "      <th>primary_genres</th>\n",
              "      <th>secondary_genres</th>\n",
              "      <th>descriptors</th>\n",
              "    </tr>\n",
              "  </thead>\n",
              "  <tbody>\n",
              "    <tr>\n",
              "      <th>0</th>\n",
              "      <td>OK Computer</td>\n",
              "      <td>Alternative Rock, Art Rock</td>\n",
              "      <td>NaN</td>\n",
              "      <td>melancholic, anxious, futuristic, malevocals, ...</td>\n",
              "    </tr>\n",
              "    <tr>\n",
              "      <th>1</th>\n",
              "      <td>Kid A</td>\n",
              "      <td>Art Rock, Experimental Rock, Electronic</td>\n",
              "      <td>Ambient, Electronic, IDM</td>\n",
              "      <td>cold, melancholic, futuristic, anxious, atmosp...</td>\n",
              "    </tr>\n",
              "    <tr>\n",
              "      <th>2</th>\n",
              "      <td>The Dark Side of the Moon</td>\n",
              "      <td>Art Rock, Progressive Rock</td>\n",
              "      <td>Psychedelic Rock, Space Rock</td>\n",
              "      <td>philosophical, atmospheric, introspective, exi...</td>\n",
              "    </tr>\n",
              "    <tr>\n",
              "      <th>3</th>\n",
              "      <td>Loveless</td>\n",
              "      <td>Shoegaze, Noise Pop</td>\n",
              "      <td>Dream Pop, Neo-Psychedelia</td>\n",
              "      <td>noisy, ethereal, atmospheric, romantic, love, ...</td>\n",
              "    </tr>\n",
              "    <tr>\n",
              "      <th>4</th>\n",
              "      <td>My Beautiful Dark Twisted Fantasy</td>\n",
              "      <td>Pop Rap, Hip Hop</td>\n",
              "      <td>Art Pop</td>\n",
              "      <td>epic, boastful, passionate, sampling, hedonist...</td>\n",
              "    </tr>\n",
              "  </tbody>\n",
              "</table>\n",
              "</div>\n",
              "    <div class=\"colab-df-buttons\">\n",
              "\n",
              "  <div class=\"colab-df-container\">\n",
              "    <button class=\"colab-df-convert\" onclick=\"convertToInteractive('df-a1aeb80c-5709-41cb-9276-e37eb93ff1e7')\"\n",
              "            title=\"Convert this dataframe to an interactive table.\"\n",
              "            style=\"display:none;\">\n",
              "\n",
              "  <svg xmlns=\"http://www.w3.org/2000/svg\" height=\"24px\" viewBox=\"0 -960 960 960\">\n",
              "    <path d=\"M120-120v-720h720v720H120Zm60-500h600v-160H180v160Zm220 220h160v-160H400v160Zm0 220h160v-160H400v160ZM180-400h160v-160H180v160Zm440 0h160v-160H620v160ZM180-180h160v-160H180v160Zm440 0h160v-160H620v160Z\"/>\n",
              "  </svg>\n",
              "    </button>\n",
              "\n",
              "  <style>\n",
              "    .colab-df-container {\n",
              "      display:flex;\n",
              "      gap: 12px;\n",
              "    }\n",
              "\n",
              "    .colab-df-convert {\n",
              "      background-color: #E8F0FE;\n",
              "      border: none;\n",
              "      border-radius: 50%;\n",
              "      cursor: pointer;\n",
              "      display: none;\n",
              "      fill: #1967D2;\n",
              "      height: 32px;\n",
              "      padding: 0 0 0 0;\n",
              "      width: 32px;\n",
              "    }\n",
              "\n",
              "    .colab-df-convert:hover {\n",
              "      background-color: #E2EBFA;\n",
              "      box-shadow: 0px 1px 2px rgba(60, 64, 67, 0.3), 0px 1px 3px 1px rgba(60, 64, 67, 0.15);\n",
              "      fill: #174EA6;\n",
              "    }\n",
              "\n",
              "    .colab-df-buttons div {\n",
              "      margin-bottom: 4px;\n",
              "    }\n",
              "\n",
              "    [theme=dark] .colab-df-convert {\n",
              "      background-color: #3B4455;\n",
              "      fill: #D2E3FC;\n",
              "    }\n",
              "\n",
              "    [theme=dark] .colab-df-convert:hover {\n",
              "      background-color: #434B5C;\n",
              "      box-shadow: 0px 1px 3px 1px rgba(0, 0, 0, 0.15);\n",
              "      filter: drop-shadow(0px 1px 2px rgba(0, 0, 0, 0.3));\n",
              "      fill: #FFFFFF;\n",
              "    }\n",
              "  </style>\n",
              "\n",
              "    <script>\n",
              "      const buttonEl =\n",
              "        document.querySelector('#df-a1aeb80c-5709-41cb-9276-e37eb93ff1e7 button.colab-df-convert');\n",
              "      buttonEl.style.display =\n",
              "        google.colab.kernel.accessAllowed ? 'block' : 'none';\n",
              "\n",
              "      async function convertToInteractive(key) {\n",
              "        const element = document.querySelector('#df-a1aeb80c-5709-41cb-9276-e37eb93ff1e7');\n",
              "        const dataTable =\n",
              "          await google.colab.kernel.invokeFunction('convertToInteractive',\n",
              "                                                    [key], {});\n",
              "        if (!dataTable) return;\n",
              "\n",
              "        const docLinkHtml = 'Like what you see? Visit the ' +\n",
              "          '<a target=\"_blank\" href=https://colab.research.google.com/notebooks/data_table.ipynb>data table notebook</a>'\n",
              "          + ' to learn more about interactive tables.';\n",
              "        element.innerHTML = '';\n",
              "        dataTable['output_type'] = 'display_data';\n",
              "        await google.colab.output.renderOutput(dataTable, element);\n",
              "        const docLink = document.createElement('div');\n",
              "        docLink.innerHTML = docLinkHtml;\n",
              "        element.appendChild(docLink);\n",
              "      }\n",
              "    </script>\n",
              "  </div>\n",
              "\n",
              "\n",
              "<div id=\"df-1da7c269-3580-4834-85ed-5df474f7b852\">\n",
              "  <button class=\"colab-df-quickchart\" onclick=\"quickchart('df-1da7c269-3580-4834-85ed-5df474f7b852')\"\n",
              "            title=\"Suggest charts.\"\n",
              "            style=\"display:none;\">\n",
              "\n",
              "<svg xmlns=\"http://www.w3.org/2000/svg\" height=\"24px\"viewBox=\"0 0 24 24\"\n",
              "     width=\"24px\">\n",
              "    <g>\n",
              "        <path d=\"M19 3H5c-1.1 0-2 .9-2 2v14c0 1.1.9 2 2 2h14c1.1 0 2-.9 2-2V5c0-1.1-.9-2-2-2zM9 17H7v-7h2v7zm4 0h-2V7h2v10zm4 0h-2v-4h2v4z\"/>\n",
              "    </g>\n",
              "</svg>\n",
              "  </button>\n",
              "\n",
              "<style>\n",
              "  .colab-df-quickchart {\n",
              "      --bg-color: #E8F0FE;\n",
              "      --fill-color: #1967D2;\n",
              "      --hover-bg-color: #E2EBFA;\n",
              "      --hover-fill-color: #174EA6;\n",
              "      --disabled-fill-color: #AAA;\n",
              "      --disabled-bg-color: #DDD;\n",
              "  }\n",
              "\n",
              "  [theme=dark] .colab-df-quickchart {\n",
              "      --bg-color: #3B4455;\n",
              "      --fill-color: #D2E3FC;\n",
              "      --hover-bg-color: #434B5C;\n",
              "      --hover-fill-color: #FFFFFF;\n",
              "      --disabled-bg-color: #3B4455;\n",
              "      --disabled-fill-color: #666;\n",
              "  }\n",
              "\n",
              "  .colab-df-quickchart {\n",
              "    background-color: var(--bg-color);\n",
              "    border: none;\n",
              "    border-radius: 50%;\n",
              "    cursor: pointer;\n",
              "    display: none;\n",
              "    fill: var(--fill-color);\n",
              "    height: 32px;\n",
              "    padding: 0;\n",
              "    width: 32px;\n",
              "  }\n",
              "\n",
              "  .colab-df-quickchart:hover {\n",
              "    background-color: var(--hover-bg-color);\n",
              "    box-shadow: 0 1px 2px rgba(60, 64, 67, 0.3), 0 1px 3px 1px rgba(60, 64, 67, 0.15);\n",
              "    fill: var(--button-hover-fill-color);\n",
              "  }\n",
              "\n",
              "  .colab-df-quickchart-complete:disabled,\n",
              "  .colab-df-quickchart-complete:disabled:hover {\n",
              "    background-color: var(--disabled-bg-color);\n",
              "    fill: var(--disabled-fill-color);\n",
              "    box-shadow: none;\n",
              "  }\n",
              "\n",
              "  .colab-df-spinner {\n",
              "    border: 2px solid var(--fill-color);\n",
              "    border-color: transparent;\n",
              "    border-bottom-color: var(--fill-color);\n",
              "    animation:\n",
              "      spin 1s steps(1) infinite;\n",
              "  }\n",
              "\n",
              "  @keyframes spin {\n",
              "    0% {\n",
              "      border-color: transparent;\n",
              "      border-bottom-color: var(--fill-color);\n",
              "      border-left-color: var(--fill-color);\n",
              "    }\n",
              "    20% {\n",
              "      border-color: transparent;\n",
              "      border-left-color: var(--fill-color);\n",
              "      border-top-color: var(--fill-color);\n",
              "    }\n",
              "    30% {\n",
              "      border-color: transparent;\n",
              "      border-left-color: var(--fill-color);\n",
              "      border-top-color: var(--fill-color);\n",
              "      border-right-color: var(--fill-color);\n",
              "    }\n",
              "    40% {\n",
              "      border-color: transparent;\n",
              "      border-right-color: var(--fill-color);\n",
              "      border-top-color: var(--fill-color);\n",
              "    }\n",
              "    60% {\n",
              "      border-color: transparent;\n",
              "      border-right-color: var(--fill-color);\n",
              "    }\n",
              "    80% {\n",
              "      border-color: transparent;\n",
              "      border-right-color: var(--fill-color);\n",
              "      border-bottom-color: var(--fill-color);\n",
              "    }\n",
              "    90% {\n",
              "      border-color: transparent;\n",
              "      border-bottom-color: var(--fill-color);\n",
              "    }\n",
              "  }\n",
              "</style>\n",
              "\n",
              "  <script>\n",
              "    async function quickchart(key) {\n",
              "      const quickchartButtonEl =\n",
              "        document.querySelector('#' + key + ' button');\n",
              "      quickchartButtonEl.disabled = true;  // To prevent multiple clicks.\n",
              "      quickchartButtonEl.classList.add('colab-df-spinner');\n",
              "      try {\n",
              "        const charts = await google.colab.kernel.invokeFunction(\n",
              "            'suggestCharts', [key], {});\n",
              "      } catch (error) {\n",
              "        console.error('Error during call to suggestCharts:', error);\n",
              "      }\n",
              "      quickchartButtonEl.classList.remove('colab-df-spinner');\n",
              "      quickchartButtonEl.classList.add('colab-df-quickchart-complete');\n",
              "    }\n",
              "    (() => {\n",
              "      let quickchartButtonEl =\n",
              "        document.querySelector('#df-1da7c269-3580-4834-85ed-5df474f7b852 button');\n",
              "      quickchartButtonEl.style.display =\n",
              "        google.colab.kernel.accessAllowed ? 'block' : 'none';\n",
              "    })();\n",
              "  </script>\n",
              "</div>\n",
              "    </div>\n",
              "  </div>\n"
            ]
          },
          "metadata": {},
          "execution_count": 15
        }
      ],
      "source": [
        "# Remove unnecessary columns\n",
        "df = df.drop(columns=['avg_rating'])\n",
        "df = df.drop(columns=['rating_count'])\n",
        "df = df.drop(columns=['review_count'])\n",
        "df = df.drop(columns=['Unnamed: 0'])\n",
        "df = df.drop(columns=['position'])\n",
        "df = df.drop(columns=['release_type'])\n",
        "df = df.drop(columns=['artist_name'])\n",
        "df = df.drop(columns=['release_date'])\n",
        "df.head(5)"
      ]
    },
    {
      "cell_type": "code",
      "execution_count": 16,
      "metadata": {
        "id": "HAKaXURDyrsT"
      },
      "outputs": [],
      "source": [
        "#Reformat descriptors properly\n",
        "df['descriptors'] = df['descriptors'].str.split(', ')\n",
        "desc_words = df['descriptors']"
      ]
    },
    {
      "cell_type": "code",
      "execution_count": 17,
      "metadata": {
        "id": "kTKlE6Nzx0ng"
      },
      "outputs": [],
      "source": [
        "#Tokenize descriptors\n",
        "texts = df['descriptors'].tolist()\n",
        "\n",
        "tokenizer = Tokenizer()\n",
        "tokenizer.fit_on_texts(texts)\n",
        "sequences = tokenizer.texts_to_sequences(texts)"
      ]
    },
    {
      "cell_type": "code",
      "execution_count": 18,
      "metadata": {
        "id": "4-1AEKqAqSom"
      },
      "outputs": [],
      "source": [
        "#Vectorize descriptors\n",
        "def descriptors_to_vector(descriptors):\n",
        "    vectors = [model[word] for word in descriptors if word in model]\n",
        "    if vectors:\n",
        "        return np.mean(vectors, axis=0)\n",
        "    else:\n",
        "        return np.zeros(model.vector_size)\n",
        "\n",
        "# Apply the function to the dataframe\n",
        "df['vector'] = df['descriptors'].apply(descriptors_to_vector)"
      ]
    },
    {
      "cell_type": "code",
      "execution_count": 19,
      "metadata": {
        "id": "JsLDl4p4T0bh"
      },
      "outputs": [],
      "source": [
        "# print(df['vector'].iloc[0])\n",
        "# print(type(df['vector']))"
      ]
    },
    {
      "cell_type": "code",
      "execution_count": 20,
      "metadata": {
        "id": "5bKxXdkDrUWQ"
      },
      "outputs": [],
      "source": [
        "padded_descriptors = pad_sequences(df['vector'].tolist(), maxlen=100, dtype='float32')\n",
        "# padded_descriptors = np.stack(df['vector'].values)\n",
        "# type(padded_descriptors)\n",
        "# print(len(padded_descriptors[0]))\n",
        "# df.head(5)"
      ]
    },
    {
      "cell_type": "code",
      "execution_count": 21,
      "metadata": {
        "id": "29jcxGJ9wa53"
      },
      "outputs": [],
      "source": [
        "embedding_dim = 300  # As the Word2Vec model you downloaded has 300 dimensions\n",
        "vocab_size = len(tokenizer.word_index) + 1\n",
        "\n",
        "# Create an embedding matrix\n",
        "embedding_matrix = np.zeros((vocab_size, embedding_dim))\n",
        "for word, i in tokenizer.word_index.items():  # tokenizer should be the tokenizer you used to process your text\n",
        "    if word in model:\n",
        "        embedding_vector = model[word]\n",
        "        if embedding_vector is not None:\n",
        "            embedding_matrix[i] = embedding_vector\n"
      ]
    },
    {
      "cell_type": "code",
      "execution_count": 22,
      "metadata": {
        "id": "WYFeYXsGS7O4"
      },
      "outputs": [],
      "source": [
        "encoder = LabelEncoder()\n",
        "df['release_name_label'] = encoder.fit_transform(df['release_name'])\n",
        "\n",
        "# # Prepare training data\n",
        "X = np.array(padded_descriptors, dtype='float32')\n",
        "# X = np.array(df['vector'])\n",
        "y = df['release_name_label'].values"
      ]
    },
    {
      "cell_type": "code",
      "execution_count": 23,
      "metadata": {
        "id": "-KI97tZ2WprN"
      },
      "outputs": [],
      "source": [
        "# print(type(X))\n"
      ]
    },
    {
      "cell_type": "code",
      "execution_count": 24,
      "metadata": {
        "id": "8FKJFAdny_YK"
      },
      "outputs": [],
      "source": [
        "X_train, X_val, y_train, y_val = train_test_split(X, y, test_size=0.2, random_state=42)"
      ]
    },
    {
      "cell_type": "code",
      "execution_count": 25,
      "metadata": {
        "colab": {
          "base_uri": "https://localhost:8080/"
        },
        "id": "UkyXRl5cTVYz",
        "outputId": "30ce57d2-67bf-4934-c955-d6c366f2fcad"
      },
      "outputs": [
        {
          "output_type": "stream",
          "name": "stdout",
          "text": [
            "Epoch 1/25\n",
            "79/79 [==============================] - ETA: 0s - loss: 8.5188 - accuracy: 0.0000e+00\n",
            "Epoch 1: val_loss improved from inf to 8.50420, saving model to best_model.h5\n",
            "79/79 [==============================] - 25s 267ms/step - loss: 8.5188 - accuracy: 0.0000e+00 - val_loss: 8.5042 - val_accuracy: 0.0010\n",
            "Epoch 2/25\n",
            "79/79 [==============================] - ETA: 0s - loss: 8.5080 - accuracy: 2.0000e-04\n",
            "Epoch 2: val_loss improved from 8.50420 to 8.50420, saving model to best_model.h5\n",
            "79/79 [==============================] - 21s 263ms/step - loss: 8.5080 - accuracy: 2.0000e-04 - val_loss: 8.5042 - val_accuracy: 0.0000e+00\n",
            "Epoch 3/25\n",
            "79/79 [==============================] - ETA: 0s - loss: 8.5079 - accuracy: 8.0000e-04\n",
            "Epoch 3: val_loss did not improve from 8.50420\n",
            "79/79 [==============================] - 21s 271ms/step - loss: 8.5079 - accuracy: 8.0000e-04 - val_loss: 8.5042 - val_accuracy: 0.0000e+00\n",
            "Epoch 4/25\n",
            "79/79 [==============================] - ETA: 0s - loss: 8.5078 - accuracy: 8.0000e-04\n",
            "Epoch 4: val_loss improved from 8.50420 to 8.50412, saving model to best_model.h5\n",
            "79/79 [==============================] - 21s 262ms/step - loss: 8.5078 - accuracy: 8.0000e-04 - val_loss: 8.5041 - val_accuracy: 0.0000e+00\n",
            "Epoch 5/25\n",
            "79/79 [==============================] - ETA: 0s - loss: 8.5078 - accuracy: 8.0000e-04\n",
            "Epoch 5: val_loss improved from 8.50412 to 8.50398, saving model to best_model.h5\n",
            "79/79 [==============================] - 20s 254ms/step - loss: 8.5078 - accuracy: 8.0000e-04 - val_loss: 8.5040 - val_accuracy: 0.0000e+00\n",
            "Epoch 6/25\n",
            "79/79 [==============================] - ETA: 0s - loss: 8.5077 - accuracy: 8.0000e-04\n",
            "Epoch 6: val_loss improved from 8.50398 to 8.50394, saving model to best_model.h5\n",
            "79/79 [==============================] - 21s 263ms/step - loss: 8.5077 - accuracy: 8.0000e-04 - val_loss: 8.5039 - val_accuracy: 0.0000e+00\n",
            "Epoch 7/25\n",
            "79/79 [==============================] - ETA: 0s - loss: 8.5076 - accuracy: 8.0000e-04\n",
            "Epoch 7: val_loss did not improve from 8.50394\n",
            "79/79 [==============================] - 21s 261ms/step - loss: 8.5076 - accuracy: 8.0000e-04 - val_loss: 8.5040 - val_accuracy: 0.0000e+00\n",
            "Epoch 8/25\n",
            "79/79 [==============================] - ETA: 0s - loss: 8.5076 - accuracy: 8.0000e-04\n",
            "Epoch 8: val_loss did not improve from 8.50394\n",
            "79/79 [==============================] - 21s 269ms/step - loss: 8.5076 - accuracy: 8.0000e-04 - val_loss: 8.5040 - val_accuracy: 0.0000e+00\n",
            "Epoch 9/25\n",
            "79/79 [==============================] - ETA: 0s - loss: 8.5075 - accuracy: 8.0000e-04Restoring model weights from the end of the best epoch: 6.\n",
            "\n",
            "Epoch 9: val_loss did not improve from 8.50394\n",
            "79/79 [==============================] - 20s 254ms/step - loss: 8.5075 - accuracy: 8.0000e-04 - val_loss: 8.5040 - val_accuracy: 0.0000e+00\n",
            "Epoch 9: early stopping\n"
          ]
        }
      ],
      "source": [
        "from keras.models import Sequential\n",
        "from keras.layers import Embedding, LSTM, Dense, Dropout\n",
        "from keras.callbacks import EarlyStopping, ModelCheckpoint\n",
        "\n",
        "modelSeq = Sequential([\n",
        "    Embedding(input_dim=vocab_size, output_dim=embedding_dim, input_length=padded_descriptors.shape[1],\n",
        "              weights=[embedding_matrix], trainable=False),  # Using pre-trained embeddings and setting them non-trainable\n",
        "    LSTM(128, return_sequences=True),  # Return sequences if you want to stack LSTMs\n",
        "    Dropout(0.2),  # Add dropout for regularization\n",
        "    LSTM(64),  # Another LSTM layer\n",
        "    Dropout(0.2),\n",
        "    Dense(256, activation='relu'),\n",
        "    Dropout(0.2),\n",
        "    Dense(128, activation='relu'),\n",
        "    Dropout(0.2),\n",
        "    Dense(64, activation='relu'),\n",
        "    Dropout(0.2),\n",
        "    Dense(len(df['release_name'].unique()), activation='softmax')\n",
        "])\n",
        "\n",
        "modelSeq.compile(optimizer='adam', loss='sparse_categorical_crossentropy', metrics=['accuracy'])\n",
        "\n",
        "# Callbacks\n",
        "early_stop = EarlyStopping(monitor='val_loss', patience=3, verbose=1, restore_best_weights=True)\n",
        "model_checkpoint = ModelCheckpoint('best_model.h5', monitor='val_loss', save_best_only=True, verbose=1)\n",
        "\n",
        "# Assuming you've created a validation set called X_val and y_val\n",
        "history = modelSeq.fit(X, y, epochs=25, batch_size=64, validation_data=(X_val, y_val), callbacks=[early_stop, model_checkpoint])\n"
      ]
    },
    {
      "cell_type": "markdown",
      "metadata": {
        "id": "MCIbswqMP40D"
      },
      "source": [
        "things to do: stricter filtering of descriptors\n",
        "one-hot the genres, word2vec (number of dimensions depends on embedding model, basic word2vec is 30 - 100), the descriptors and average the value and put it in space. tutorials on youtube seem good."
      ]
    },
    {
      "cell_type": "markdown",
      "metadata": {
        "id": "ir36WMMeQlAe"
      },
      "source": [
        "try to find a taxonomy of genres online, if not split up words and vaguely separating the musical words"
      ]
    },
    {
      "cell_type": "markdown",
      "metadata": {
        "id": "iK6xhtMnQjsX"
      },
      "source": [
        "Partial credit accuracy/reward system where \"radiohead\" for atmospheric even if the album recommended is not atmospheric"
      ]
    },
    {
      "cell_type": "code",
      "execution_count": 26,
      "metadata": {
        "id": "wHERGJUCJtSO"
      },
      "outputs": [],
      "source": [
        "import os\n",
        "import base64\n",
        "from requests import post, get\n",
        "import json\n",
        "import spotipy\n",
        "from spotipy.oauth2 import SpotifyOAuth, SpotifyClientCredentials\n",
        "\n",
        "\n",
        "os.environ['SPOTIPY_CLIENT_ID'] = '08a0640020ff4e5d9713aaeacfbd1886'\n",
        "os.environ['SPOTIPY_CLIENT_SECRET'] = '81cefe24f94b4f24af9fe1ad2e70ef4a'\n",
        "os.environ['SPOTIPY_REDIRECT_URI'] = 'http://example.com/callback'\n",
        "\n",
        "#Authorization Code Flow\n",
        "scopes = \"user-library-read user-top-read user-follow-read\"\n",
        "\n",
        "sp = spotipy.Spotify(\n",
        "        auth_manager=spotipy.SpotifyOAuth(\n",
        "          scope=scopes, open_browser=False))"
      ]
    },
    {
      "cell_type": "code",
      "execution_count": 30,
      "metadata": {
        "colab": {
          "base_uri": "https://localhost:8080/"
        },
        "id": "074tVJK3FP4Y",
        "outputId": "3e076fc2-cb8a-4af3-e59f-722e5854a6e1"
      },
      "outputs": [
        {
          "output_type": "stream",
          "name": "stdout",
          "text": [
            "   1 My Playlist #5\n",
            "   2 PRE-WORKOUT PLAYLIST \n",
            "   3 fire\n",
            "   4 Deja Vu (Initial D)\n",
            "   5 chill\n"
          ]
        }
      ],
      "source": [
        "#Get Specified User's Playlists\n",
        "playlists = sp.user_playlists('frankthetank922')\n",
        "\n",
        "while playlists:\n",
        "    for i, playlist in enumerate(playlists['items']):\n",
        "        #print(\"%4d %s %s\" % (i + 1 + playlists['offset'], playlist['uri'],  playlist['name']))\n",
        "        print(\"%4d %s\" % (i + 1 + playlists['offset'], playlist['name']))\n",
        "\n",
        "    if playlists['next']:\n",
        "        playlists = sp.next(playlists)\n",
        "    else:\n",
        "        playlists = None\n"
      ]
    },
    {
      "cell_type": "code",
      "execution_count": 31,
      "metadata": {
        "id": "nRThraExKLWH",
        "colab": {
          "base_uri": "https://localhost:8080/"
        },
        "outputId": "2adf8b98-11f1-42e0-f7c2-df37a2ca8163"
      },
      "outputs": [
        {
          "output_type": "stream",
          "name": "stdout",
          "text": [
            "Airbag\n",
            "Paranoid Android\n",
            "Subterranean Homesick Alien\n",
            "Exit Music (For A Film)\n",
            "Let Down\n",
            "Karma Police\n",
            "Fitter Happier\n",
            "Electioneering\n",
            "Climbing Up the Walls\n",
            "No Surprises\n",
            "Lucky\n",
            "The Tourist\n"
          ]
        }
      ],
      "source": [
        "album_name = \"OK Computer\"\n",
        "artist_name = \"Radiohead\"\n",
        "\n",
        "# Search for the album\n",
        "results = sp.search(q=f\"album:{album_name} artist:{artist_name}\", type=\"album\")\n",
        "\n",
        "album_id = results['albums']['items'][0]['id']\n",
        "\n",
        "album_tracks = sp.album_tracks(album_id)\n",
        "\n",
        "for track in album_tracks['items']:\n",
        "    print(track['name'])\n"
      ]
    },
    {
      "cell_type": "markdown",
      "metadata": {
        "id": "UepnJGOySewz"
      },
      "source": [
        "model architecture: pytorch simple neural network (feedforward neural network).\n",
        "\n",
        "get a model working before break, even if its simpler (in terms of model architecture and pre-processing)."
      ]
    },
    {
      "cell_type": "markdown",
      "metadata": {
        "id": "WIvGUWgVbECO"
      },
      "source": [
        "in recommendation stage, top n choices of different artists because otherwise it will just recommend songs from the same album\n",
        "|\n",
        "also figure out a way to vectorize/umbrella categories for genres\n",
        "|\n",
        "add column for frequency of each genre like\n",
        "col 1 : space rock\n",
        "col 2 : rock\n",
        "col 3 : frequency 3\n",
        "|\n",
        "also separate the words in the descriptors (ie \"malevocals\" should be \"male vocals\")"
      ]
    },
    {
      "cell_type": "markdown",
      "metadata": {
        "id": "hVsp0vUnRbvp"
      },
      "source": [
        "still do this, but only useful for bringing in new information that is song specific, like lyrics and popularity"
      ]
    },
    {
      "cell_type": "code",
      "execution_count": 32,
      "metadata": {
        "id": "qHDMxVHzOR2v"
      },
      "outputs": [],
      "source": [
        "# CODE GRAVEYARD\n",
        "\n",
        "# # Flatten the lists in the \"descriptors\" column\n",
        "# flattened_descriptors = df['descriptors'].explode()\n",
        "\n",
        "# # Count the number of unique strings\n",
        "# unique_count = flattened_descriptors.nunique()\n",
        "\n",
        "# flattened_descriptors.head(5)\n",
        "\n",
        "# # Use value_counts to count the frequency of elements in the column\n",
        "# element_counts = flattened_descriptors.value_counts()\n",
        "\n",
        "# # Print the result\n",
        "# print(element_counts)\n",
        "\n",
        "\n",
        "\n",
        "# # One-hot-encoding for DESCRIPTORS\n",
        "\n",
        "# # Turn descriptors into a list of strings\n",
        "# df['descriptors'] = df['descriptors'].str.split(',')\n",
        "\n",
        "# descriptors_encoded = df['descriptors'].str.join('|').str.get_dummies()\n",
        "\n",
        "# descriptor_frequencies = descriptors_encoded.iloc[:, 2:].sum()\n",
        "\n",
        "# # print (descriptor_frequencies)\n",
        "\n",
        "# rarity_threshold = 10\n",
        "\n",
        "# # Clean column names by stripping spaces\n",
        "# descriptors_encoded.columns = descriptors_encoded.columns.str.strip()\n",
        "\n",
        "# rare_descriptors = descriptor_frequencies[descriptor_frequencies < rarity_threshold]\n",
        "\n",
        "# # print(rare_descriptors)\n",
        "# # print(len(rare_descriptors))"
      ]
    }
  ],
  "metadata": {
    "colab": {
      "provenance": [],
      "include_colab_link": true
    },
    "kernelspec": {
      "display_name": "Python 3",
      "name": "python3"
    },
    "language_info": {
      "name": "python"
    }
  },
  "nbformat": 4,
  "nbformat_minor": 0
}